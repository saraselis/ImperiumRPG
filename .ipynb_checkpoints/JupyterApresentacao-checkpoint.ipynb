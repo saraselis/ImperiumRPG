{
 "cells": [
  {
   "cell_type": "markdown",
   "metadata": {},
   "source": [
    "# Imperium RPG\n",
    "Este projeto tem a finalidade de simular um jogo de RPG com os personagens <b> Farroupilha, Cangaceiro, Coronel e Pajé"
   ]
  },
  {
   "cell_type": "markdown",
   "metadata": {},
   "source": [
    "Bibliotecas necessárias"
   ]
  },
  {
   "cell_type": "code",
   "execution_count": 2,
   "metadata": {},
   "outputs": [],
   "source": [
    "import PySimpleGUI as sg \n",
    "from abc import abstractmethod\n",
    "from collections import OrderedDict"
   ]
  },
  {
   "cell_type": "markdown",
   "metadata": {},
   "source": [
    "Tela de inicialização da interface gráfica"
   ]
  },
  {
   "cell_type": "code",
   "execution_count": 3,
   "metadata": {},
   "outputs": [],
   "source": [
    "class TelaAtaqueFarroupilha:\n",
    "    '''\n",
    "        Essa classe tem a função de inicializar o PysimpleGUI e apresentar as imagens de ataque \n",
    "            dos personagems do RPG. \\n\n",
    "    '''\n",
    "    def __init__(self, ataque):\n",
    "        sg.change_look_and_feel('Purple')\n",
    "\n",
    "        panchando_adaga_img = \"/home/stefanini/Documentos/IESB/6to/05-poo/ImperiumRPG/imperiumRpg/Imagens/farroupilha/pranchando_ataga.png\"\n",
    "        mateando_img = \"/home/stefanini/Documentos/IESB/6to/05-poo/ImperiumRPG/imperiumRpg/Imagens/farroupilha/mateando.png\"\n",
    "        pala_img = \"/home/stefanini/Documentos/IESB/6to/05-poo/ImperiumRPG/imperiumRpg/Imagens/farroupilha/pala.png\"\n",
    "        desenhar_img = \"/home/stefanini/Documentos/IESB/6to/05-poo/ImperiumRPG/imperiumRpg/Imagens/farroupilha/desenhar_desgraca.png\"\n",
    "        tertulia_img = \"/home/stefanini/Documentos/IESB/6to/05-poo/ImperiumRPG/imperiumRpg/Imagens/farroupilha/tertulia.png\"\n",
    "        gritos_lib_img = \"/home/stefanini/Documentos/IESB/6to/05-poo/ImperiumRPG/imperiumRpg/Imagens/farroupilha/gritos_liberdade.png\"\n",
    "        \n",
    "        imagens_gui = {}\n",
    "        \n",
    "        imagens_gui = {\n",
    "            \"pranchando_adaga\": panchando_adaga_img,\n",
    "            \"mateando\": mateando_img,\n",
    "            \"pala\": pala_img,\n",
    "            \"desenhar_a_desgraca\": desenhar_img,\n",
    "            \"tertulia\": tertulia_img, \n",
    "            \"gritos_de_liberdade\": gritos_lib_img,\n",
    "        }\n",
    "        \n",
    "        imagens_gui = OrderedDict(imagens_gui)\n",
    "        \n",
    "        for key in imagens_gui:\n",
    "            if ataque == key:\n",
    "                ataque = imagens_gui[key]\n",
    "                break\n",
    "        \n",
    "        layout = [\n",
    "            [sg.Image(ataque),]\n",
    "        ]\n",
    "        \n",
    "        self.janela = sg.Window(\"Dados do usuário\").layout(layout)\n",
    "        \n",
    "    def iniciar(self):\n",
    "        while True:\n",
    "            self.button, self.values = self.janela.Read()\n",
    "            break\n",
    "        self.janela.close()"
   ]
  },
  {
   "cell_type": "markdown",
   "metadata": {},
   "source": [
    "Tratamentos de exceção personalizados utilizados"
   ]
  },
  {
   "cell_type": "code",
   "execution_count": 4,
   "metadata": {},
   "outputs": [],
   "source": [
    "class GritoEx(NotImplementedError):\n",
    "    def __init__(self):\n",
    "        super().__init__('Grito de guerra é algo muito pessoal... \\n Como queres generalizar?')"
   ]
  },
  {
   "cell_type": "markdown",
   "metadata": {},
   "source": [
    "Implementação da Interface do projeto"
   ]
  },
  {
   "cell_type": "code",
   "execution_count": 5,
   "metadata": {},
   "outputs": [],
   "source": [
    "class Principal:\n",
    "    @abstractmethod\n",
    "    def distancia_ataque(self):\n",
    "        print(\"entrei na distancia\")\n",
    "        return\n",
    "    \n",
    "    @abstractmethod\n",
    "    def resistencia(self):\n",
    "        return"
   ]
  },
  {
   "cell_type": "markdown",
   "metadata": {},
   "source": [
    "Classe Mixin que acrescenta a função de de <i>potion</i> no projeto.\n",
    "<br>\n",
    "Os personagens podem utilizar a potion para recuperar vida ou mana"
   ]
  },
  {
   "cell_type": "code",
   "execution_count": 6,
   "metadata": {},
   "outputs": [],
   "source": [
    "class PocaoMixin:\n",
    "    '''\n",
    "        Classe Mixin que adiciona a possibilidade\n",
    "            de ganho de vida ou mana.\n",
    "    '''\n",
    "    def tomar_chimarrao(self, potion:str, buff=10):\n",
    "        '''\n",
    "            Método de regeneracao do Gaúcho\n",
    "        '''\n",
    "        self.logica(potion, buff)\n",
    "        return 'O gaúcho se recupera com um bom mate'\n",
    "\n",
    "    def rape(self, potion:str, buff=15):\n",
    "        '''\n",
    "            Método de regeneracao do Pajé\n",
    "        '''\n",
    "        self.logica(potion, buff)\n",
    "        return 'Tupã revitaliza o Pajé'\n",
    "\n",
    "    def cachaca(self, potion:str, buff=5):\n",
    "        '''\n",
    "            Método de regeneracao do Cangaceiro\n",
    "        '''\n",
    "        self.logica(potion, buff)\n",
    "        return 'Nada como uma cachaça para recuperar um nordestino'\n",
    "\n",
    "    def cerveja(self, potion:str, buff=10):\n",
    "        '''\n",
    "            Método de regeneracao do Coronel\n",
    "        '''\n",
    "        self.logica(potion, buff)\n",
    "        return 'Uma gelada recuperadora'\n",
    "\n",
    "    def logica(self, potion:str, buff=10):\n",
    "        '''\n",
    "            Implementa a lógica de decisão do que será recuperado\n",
    "        '''\n",
    "        if potion == 'vida' and self._pontos_vida > 0:\n",
    "            self._pontos_vida = self._pontos_vida + buff\n",
    "\n",
    "        elif potion == 'mana' and self._pontos_mana  > 0:\n",
    "            self._pontos_mana = self._pontos_mana + buff\n",
    "\n",
    "        else:\n",
    "            print('Vc fez uma escolha errada de poção, acabou de desperdiçá-la')"
   ]
  },
  {
   "cell_type": "markdown",
   "metadata": {},
   "source": [
    "Classe da Pilha"
   ]
  },
  {
   "cell_type": "code",
   "execution_count": 7,
   "metadata": {},
   "outputs": [],
   "source": [
    "class Stack:\n",
    "    def __init__(self):\n",
    "        self.stack = []\n",
    "        self.len_stack = 0\n",
    "        \n",
    "    def push(self, personagem):\n",
    "        self.stack.append(personagem)\n",
    "        self.len_stack += 1\n",
    "        \n",
    "    def pop(self):\n",
    "        if not self.empty():\n",
    "            self.stack.pop(self.len_stack - 1)\n",
    "            self.len_stack -= 1\n",
    "        else:\n",
    "            return 'Não foi possível retirar nenhum elemento, lista vazia'\n",
    "        \n",
    "    def topo(self):\n",
    "        if not self.empty():\n",
    "            return self.stack[-1]\n",
    "        else:\n",
    "            return 'Pilha vazia'\n",
    "    \n",
    "    def empty(self):\n",
    "        if(self.len_stack == 0):\n",
    "            return True\n",
    "        return False\n",
    "    \n",
    "    def show_pilha(self):\n",
    "        saida=' '\n",
    "        for i in self.stack:\n",
    "            saida += f'{i} '\n",
    "            saida += '-> '\n",
    "        print(saida)\n",
    "        \n",
    "    def tamanho(self):\n",
    "        return self.len_stack"
   ]
  },
  {
   "cell_type": "code",
   "execution_count": 8,
   "metadata": {},
   "outputs": [],
   "source": [
    "class Personagem(Principal, PocaoMixin):\n",
    "    def __init__(self, nome:str, tipo:int, distancia_ataque:int, resistencia:int,\n",
    "                  pontos_vida:float, pontos_mana:float, pontos_ataque:int):\n",
    "        self._nome = nome\n",
    "        self._tipo = tipo\n",
    "        self._distancia_ataque = distancia_ataque\n",
    "        self._resistencia = resistencia\n",
    "        self._pontos_vida = pontos_vida\n",
    "        self._pontos_mana = pontos_mana\n",
    "        self._pontos_ataque = pontos_ataque\n",
    "        \n",
    "    '''getters e setters'''\n",
    "    @property\n",
    "    def nome(self) -> str:\n",
    "        return self._nome\n",
    "    \n",
    "    @nome.setter\n",
    "    def nome(self, novo_nome:str):\n",
    "        self._nome = novo_nome\n",
    "        \n",
    "    @property\n",
    "    def tipo(self) -> int:\n",
    "        return self._tipo\n",
    "    \n",
    "    @tipo.setter\n",
    "    def tipo(self, novo_tipo:int):\n",
    "        self._tipo = novo_tipo\n",
    "        \n",
    "    @property\n",
    "    def distancia_ataque(self) -> int:\n",
    "        return self._distancia_ataque\n",
    "    \n",
    "    @distancia_ataque.setter\n",
    "    def distancia_ataque(self, novo_ataque: int):\n",
    "        self._distancia_ataque = novo_ataque\n",
    "        \n",
    "    @property\n",
    "    def resistencia(self) -> int:\n",
    "        return self._resistencia\n",
    "    \n",
    "    @resistencia.setter\n",
    "    def resistencia(self, nova_resistencia:int):\n",
    "        self._resistencia = nova_resistencia\n",
    "        \n",
    "    @property\n",
    "    def pontos_vida(self) -> float:\n",
    "        return self._pontos_vida\n",
    "    \n",
    "    @pontos_vida.setter\n",
    "    def pontos_vida(self, novo_pts_vida:float):\n",
    "        self._pontos_vida = novo_pts_vida\n",
    "        \n",
    "    @property\n",
    "    def pontos_mana(self) -> float:\n",
    "        return self._pontos_mana\n",
    "    \n",
    "    @pontos_mana.setter\n",
    "    def pontos_mana(self, novo_pts_mana: float):\n",
    "        self._pontos_mana = novo_pts_mana\n",
    "        \n",
    "    @property\n",
    "    def pontos_ataque(self) -> int:\n",
    "        return self._pontos_ataque\n",
    "    \n",
    "    @pontos_ataque.setter\n",
    "    def pontos_ataque(self, novo_pts_ataque:int):\n",
    "        self._pontos_ataque = novo_pts_ataque\n",
    "        \n",
    "    def grito_de_guerra(self):\n",
    "        raise GritoEx\n",
    "    \n",
    "    def _checa_mana(foo):\n",
    "        '''\n",
    "            Decorator que visa verificar se o personagem possui mana o suficiente para realizar\n",
    "                suas ações\n",
    "        '''\n",
    "        def verifica(self, *inimigo) :\n",
    "            if self._pontos_mana <= 10:\n",
    "                return print(f\"{self._nome.title()}  não tem mana o suficiente para executar esta ação!\")\n",
    "            else:\n",
    "                foo(self, *inimigo)\n",
    "        return verifica\n",
    "        \n",
    "    def _checa_vida(foo):\n",
    "        '''\n",
    "            Decorator que verifica se o personagem tem vida o suficiente\n",
    "        '''\n",
    "        def verifica(self, *inimigo) :\n",
    "            if inimigo[0]._pontos_vida <= 10:\n",
    "                return print(f\"{inimigo[0]._nome.title()} não tem VIDA o suficiente para executar esta ação!\")\n",
    "            else:\n",
    "                foo(self, *inimigo)\n",
    "        return verifica\n",
    "    \n",
    "    @staticmethod\n",
    "    def _show_ataque(tipo_ataque:str):\n",
    "        '''\n",
    "            Mostra imagem de ataque do personagem\n",
    "        '''\n",
    "        tela = TelaAtaqueFarroupilha(tipo_ataque)\n",
    "        tela.iniciar()    \n",
    "    \n",
    "    def __del__(self):\n",
    "        return f'{self._nome.title()} bateu as bota'\n",
    "  \n",
    "    def __repr__(self):\n",
    "        return f'{self._nome.title()}'"
   ]
  },
  {
   "cell_type": "code",
   "execution_count": null,
   "metadata": {},
   "outputs": [],
   "source": []
  },
  {
   "cell_type": "code",
   "execution_count": 9,
   "metadata": {},
   "outputs": [],
   "source": [
    "per = Personagem('olaf', 'asdf', 'sara', 0, 0, 0, 0)"
   ]
  },
  {
   "cell_type": "code",
   "execution_count": 10,
   "metadata": {},
   "outputs": [
    {
     "data": {
      "text/plain": [
       "'Olaf bateu as bota'"
      ]
     },
     "execution_count": 10,
     "metadata": {},
     "output_type": "execute_result"
    }
   ],
   "source": [
    "per.__del__()"
   ]
  },
  {
   "cell_type": "markdown",
   "metadata": {},
   "source": [
    "Classe personalizada personagem Farroupilha"
   ]
  },
  {
   "cell_type": "code",
   "execution_count": 11,
   "metadata": {},
   "outputs": [],
   "source": [
    "class Farroupilha(Personagem, Stack, TelaAtaqueFarroupilha):\n",
    "    def __init__(self, nome:str, tipo:int, distancia_ataque:int, resistencia:int,\n",
    "                  pontos_vida:float, pontos_mana:float, pontos_ataque:int, diplomacia:int,\n",
    "                  cavaleiro:bool, mateador:float, guapo:int):\n",
    "        super().__init__(nome, tipo, distancia_ataque, resistencia, pontos_vida, pontos_mana,\n",
    "                         pontos_ataque)\n",
    "        self._diplomacia = diplomacia\n",
    "        self._cavaleiro = cavaleiro\n",
    "        self._mateador = mateador\n",
    "        self._guapo = guapo\n",
    "        self._fila = Stack()\n",
    "        \n",
    "    @property\n",
    "    def diplomacia(self) -> int:\n",
    "        return self._diplomacia\n",
    "    \n",
    "    @diplomacia.setter\n",
    "    def diplomacia(self, nova_diplomacia:int):\n",
    "        self._diplomacia = diplomacia\n",
    "        \n",
    "    @property\n",
    "    def cavaleiro(self) -> bool:\n",
    "        return self._cavaleiro\n",
    "    \n",
    "    @cavaleiro.setter\n",
    "    def cavaleiro(self, novo_cavaleiro:bool):\n",
    "        self._cavaleiro = novo_cavaleiro\n",
    "        \n",
    "    @property\n",
    "    def mateador(self) -> float:\n",
    "        return self._mateador\n",
    "    \n",
    "    @mateador.setter\n",
    "    def mateador(self, novo_mateador:float):\n",
    "        self._novo_mateador = novo_mateador\n",
    "        \n",
    "    @property\n",
    "    def guapo(self) -> int:\n",
    "        return self._guapo\n",
    "    \n",
    "    @guapo.setter\n",
    "    def guapo(self, novo_guapo:int):\n",
    "        self._guapo = novo_guapo\n",
    "    \n",
    "    @Personagem._checa_vida\n",
    "    @Personagem._checa_mana\n",
    "    def pranchando_adaga(self, inimigo) -> str:\n",
    "        '''\n",
    "            Farroupilha saca a adaga da sua bota para desenhar o fio em seus\n",
    "            adversários.\n",
    "        '''\n",
    "        \n",
    "        ataque = (self._pontos_ataque + self._guapo)\n",
    "        \n",
    "        if self._cavaleiro == True:\n",
    "            ataque = ataque * 0.5\n",
    "            \n",
    "        print(f'Seu ataque agora é {ataque}!')\n",
    "        \n",
    "        inimigo._pontos_vida = inimigo._pontos_vida - ataque\n",
    "        print(f'O inimigo {inimigo._nome.title()} está com {inimigo._pontos_vida} pontos de vida!')\n",
    "        \n",
    "        self._show_ataque('pranchando_adaga')\n",
    "        \n",
    "        if inimigo._pontos_vida.__pos__() < 0:\n",
    "            self._fila.push(inimigo._nome.title())\n",
    "            print(\"Chuta só pra ter certeza que morreu\")\n",
    "        else:\n",
    "            print(\"Da proxima nao me escapa\")\n",
    "        return f'Guarda a adaga'\n",
    "    \n",
    "    @Personagem._checa_mana\n",
    "    def mateando(self) -> str:\n",
    "        '''\n",
    "        Farroupilha faz uma fogueira, senta e vai tomar um bom mate para curar\n",
    "        suas dores.\n",
    "        '''\n",
    "        \n",
    "        print('Porque tradição sempre rima com chimarrão')\n",
    "        \n",
    "        regeneracao = 20 + (0.30*self._mateador)\n",
    "        \n",
    "        self._pontos_vida = self._pontos_vida + regeneracao\n",
    "        \n",
    "        self._show_ataque('mateando')\n",
    "        \n",
    "        return f'A nova vida de {self._nome.title()} é {self._pontos_vida}'\n",
    "    \n",
    "    @Personagem._checa_vida\n",
    "    @Personagem._checa_mana\n",
    "    def pala(self, inimigo) -> str:\n",
    "        '''\n",
    "        Gaúcho se esconde na sua pala e finge que nada está acontecendo.\n",
    "        '''\n",
    "        defesa = 0\n",
    "        print(f'A defesa de {self._nome.title()} é {defesa}')\n",
    "        \n",
    "        inimigo._pontos_ataque = inimigo._pontos_ataque - defesa\n",
    "        \n",
    "        print(f'O ataque do inimigo {inimigo._nome.title()} diminuiu, agora é {inimigo._pontos_ataque}')\n",
    "        \n",
    "        self._show_ataque('pala')\n",
    "        \n",
    "        if inimigo._pontos_ataque.__pos__() <= 0:\n",
    "            self._fila.push(inimigo._nome.title())\n",
    "            print(\"Esse inimigo não tem mais forças para lutar!\")\n",
    "        \n",
    "        else:\n",
    "            self._pontos_vida = self._pontos_vida - inimigo._pontos_ataque\n",
    "            print(f\"A vida de {self._nome.title()} é {self._pontos_vida}\")\n",
    "            \n",
    "            if self._pontos_vida.__pos__() <= 0:\n",
    "                print(\"Voce desfaleceu\")\n",
    "            else:\n",
    "                print(\"Essa pala te salvou vivente\")\n",
    "        \n",
    "        return f'Ningém tem paz nessa casa'\n",
    "\n",
    "    @Personagem._checa_vida\n",
    "    @Personagem._checa_mana\n",
    "    def desenhar_a_desgraca(self, inimigo) -> str:\n",
    "        '''\n",
    "        Farroupilha desenha a desgraça no corpo dos seus inimigos\n",
    "        '''\n",
    "        \n",
    "        ataque = self._pontos_ataque + self._guapo + (0.5 * self._pontos_ataque)\n",
    "        print(f'Seu ataque agora é {ataque}!')\n",
    "        \n",
    "        inimigo._pontos_vida = inimigo._pontos_vida - ataque\n",
    "        print(f'A vida de {inimigo._nome.title()} é {inimigo._pontos_vida}')\n",
    "        \n",
    "        self._show_ataque('desenhar_a_desgraca')\n",
    "        \n",
    "        if inimigo._pontos_vida.__pos__() <= 0:\n",
    "            print(\"Esse inimigo não tem mais vida para lutar!\")\n",
    "            self._fila.push(inimigo._nome.title())\n",
    "            \n",
    "        else:\n",
    "            print(\"Na proxima ele não escapa!\")\n",
    "            \n",
    "        return 'Chega de chutar os cuscos morto'\n",
    "    \n",
    "    @Personagem._checa_mana\n",
    "    def tertulia(self) -> str:\n",
    "        '''\n",
    "        Farroupilha convence seu inimigo a se\n",
    "            aprochegar para uma boa tertúlia. O inimigo desiste de atacar.\n",
    "        '''\n",
    "        \n",
    "        self._show_ataque('tertulia')\n",
    "        \n",
    "        if self._diplomacia > 50 and self._guapo > 0:\n",
    "            print(\"Chega de treta, vamos matear\")\n",
    "        \n",
    "        else:\n",
    "            print(\"Se lascamo, vamo degladiar\")\n",
    "    \n",
    "    @Personagem._checa_vida\n",
    "    @Personagem._checa_mana\n",
    "    def gritos_de_liberdade(self, inimigo) -> str:\n",
    "        '''\n",
    "        Gaúcho perde a noção de seus ideais de humanidade e parte para cima de\n",
    "            seus inimigos, é vida ou morte.\n",
    "        '''\n",
    "        ataque = self._pontos_ataque * self._guapo \n",
    "        \n",
    "        if self._cavaleiro is True:\n",
    "            ataque = ataque + (0.9 * self._pontos_ataque)\n",
    "        \n",
    "        print(f'Seu ataque agora é {ataque}!')\n",
    "        \n",
    "        inimigo._pontos_vida = inimigo._pontos_vida - ataque\n",
    "        print(f'A vida de {inimigo._nome.title()} é {inimigo._pontos_vida}')\n",
    "        \n",
    "        self._show_ataque('gritos_de_liberdade')\n",
    "        \n",
    "        if inimigo._pontos_vida.__pos__() <= 0:\n",
    "            print(inimigo._nome.title())\n",
    "            self._fila.push(inimigo._nome.title())\n",
    "            print(\"Esse inimigo não tem mais vida para lutar!\")\n",
    "            \n",
    "        else:\n",
    "            print(\"Na proxima ele não escapa!\")\n",
    "            \n",
    "        return 'Vento, cavalo, peão...'\n",
    "    \n",
    "    def grito_de_guerra(self) -> str: \n",
    "        return f\"{self._nome.title()} diz: BAhh to sem criativadE\"\n",
    "    \n",
    "\n",
    "    def buff_tipe(self):\n",
    "        if self._tipo == 1:\n",
    "            ataque = super().distancia_ataque\n",
    "            self._distancia_ataque = ataque + 10\n",
    "            print(\"Buff de Ranged\")\n",
    "            \n",
    "        elif self._tipo == 0:\n",
    "            ataque = super()._resistencia\n",
    "            self._resistencia = ataque + 10\n",
    "            print(\"Buff de Melee\")\n",
    "        else:\n",
    "            pass \n",
    "        \n",
    "    def album_figurinhas(self):\n",
    "        print(f\"Ultimo morto: {self._fila.topo()}\")\n",
    "        print(\"Lista de mortos:\")\n",
    "        self._fila.show_pilha()\n",
    "\n",
    "    def __str_(self):\n",
    "        return f'Um gaúcho foi instanciado: {self._nome}'"
   ]
  },
  {
   "cell_type": "markdown",
   "metadata": {},
   "source": [
    "----"
   ]
  },
  {
   "cell_type": "code",
   "execution_count": 12,
   "metadata": {},
   "outputs": [
    {
     "name": "stdout",
     "output_type": "stream",
     "text": [
      "Germano\n"
     ]
    }
   ],
   "source": [
    "germano = Farroupilha('Germano', 1, 10, 20, 40, 40.0, 50, 60, True, 70.0, 80)\n",
    "print(germano)"
   ]
  },
  {
   "cell_type": "code",
   "execution_count": 13,
   "metadata": {},
   "outputs": [
    {
     "data": {
      "text/plain": [
       "('Germano', 1, 10, 20, 40)"
      ]
     },
     "execution_count": 13,
     "metadata": {},
     "output_type": "execute_result"
    }
   ],
   "source": [
    "germano.nome, germano.tipo, germano.distancia_ataque, germano.resistencia, germano.pontos_vida"
   ]
  },
  {
   "cell_type": "code",
   "execution_count": 14,
   "metadata": {},
   "outputs": [
    {
     "data": {
      "text/plain": [
       "(40.0, 50, 60, True, 70.0, 80)"
      ]
     },
     "execution_count": 14,
     "metadata": {},
     "output_type": "execute_result"
    }
   ],
   "source": [
    "germano.pontos_mana, germano.pontos_ataque, germano.diplomacia, germano.cavaleiro, germano.mateador, germano.guapo"
   ]
  },
  {
   "cell_type": "code",
   "execution_count": 15,
   "metadata": {},
   "outputs": [
    {
     "data": {
      "text/plain": [
       "'Germano diz: BAhh to sem criativadE'"
      ]
     },
     "execution_count": 15,
     "metadata": {},
     "output_type": "execute_result"
    }
   ],
   "source": [
    "germano.grito_de_guerra()"
   ]
  },
  {
   "cell_type": "code",
   "execution_count": 16,
   "metadata": {},
   "outputs": [
    {
     "name": "stdout",
     "output_type": "stream",
     "text": [
      "Ultimo morto: Pilha vazia\n",
      "Lista de mortos:\n",
      " \n"
     ]
    }
   ],
   "source": [
    "germano.album_figurinhas()"
   ]
  },
  {
   "cell_type": "code",
   "execution_count": 17,
   "metadata": {},
   "outputs": [
    {
     "name": "stdout",
     "output_type": "stream",
     "text": [
      "Buff de Ranged\n"
     ]
    }
   ],
   "source": [
    "germano.buff_tipe()"
   ]
  },
  {
   "cell_type": "code",
   "execution_count": 18,
   "metadata": {},
   "outputs": [
    {
     "data": {
      "text/plain": [
       "40"
      ]
     },
     "execution_count": 18,
     "metadata": {},
     "output_type": "execute_result"
    }
   ],
   "source": [
    "germano.pontos_vida"
   ]
  },
  {
   "cell_type": "code",
   "execution_count": 19,
   "metadata": {},
   "outputs": [
    {
     "data": {
      "text/plain": [
       "'O gaúcho se recupera com um bom mate'"
      ]
     },
     "execution_count": 19,
     "metadata": {},
     "output_type": "execute_result"
    }
   ],
   "source": [
    "germano.tomar_chimarrao('vida', 20)"
   ]
  },
  {
   "cell_type": "code",
   "execution_count": 20,
   "metadata": {},
   "outputs": [
    {
     "data": {
      "text/plain": [
       "60"
      ]
     },
     "execution_count": 20,
     "metadata": {},
     "output_type": "execute_result"
    }
   ],
   "source": [
    "germano.pontos_vida"
   ]
  },
  {
   "cell_type": "code",
   "execution_count": null,
   "metadata": {},
   "outputs": [],
   "source": []
  },
  {
   "cell_type": "code",
   "execution_count": 21,
   "metadata": {},
   "outputs": [],
   "source": [
    "bento = Farroupilha('Bento', 1, 10, 20, 60, 40.0, 50, 60, True, 70.0, 80)\n"
   ]
  },
  {
   "cell_type": "code",
   "execution_count": null,
   "metadata": {},
   "outputs": [],
   "source": []
  },
  {
   "cell_type": "code",
   "execution_count": 22,
   "metadata": {},
   "outputs": [],
   "source": [
    "giuseppe = Farroupilha('Giuseppe', 0, 10, 20, 60, 40.0, 50, 60, True, 70.0, 80)"
   ]
  },
  {
   "cell_type": "code",
   "execution_count": null,
   "metadata": {},
   "outputs": [],
   "source": []
  },
  {
   "cell_type": "code",
   "execution_count": 23,
   "metadata": {},
   "outputs": [
    {
     "name": "stdout",
     "output_type": "stream",
     "text": [
      "Garibaldi\n"
     ]
    }
   ],
   "source": [
    "garibaldi = Farroupilha('garibaldi', 0, 10, 20, 30.0, 50.0, 50, 60, True, 70.0, 80)\n",
    "print(garibaldi)"
   ]
  },
  {
   "cell_type": "code",
   "execution_count": 24,
   "metadata": {},
   "outputs": [
    {
     "data": {
      "text/plain": [
       "Garibaldi"
      ]
     },
     "execution_count": 24,
     "metadata": {},
     "output_type": "execute_result"
    }
   ],
   "source": [
    "garibaldi"
   ]
  },
  {
   "cell_type": "code",
   "execution_count": 25,
   "metadata": {},
   "outputs": [
    {
     "data": {
      "text/plain": [
       "'Garibaldi diz: BAhh to sem criativadE'"
      ]
     },
     "execution_count": 25,
     "metadata": {},
     "output_type": "execute_result"
    }
   ],
   "source": [
    "garibaldi.grito_de_guerra()"
   ]
  },
  {
   "cell_type": "code",
   "execution_count": 26,
   "metadata": {},
   "outputs": [
    {
     "name": "stdout",
     "output_type": "stream",
     "text": [
      "Seu ataque agora é 65.0!\n",
      "O inimigo Germano está com -5.0 pontos de vida!\n",
      "Chuta só pra ter certeza que morreu\n"
     ]
    }
   ],
   "source": [
    "garibaldi.pranchando_adaga(germano)"
   ]
  },
  {
   "cell_type": "code",
   "execution_count": 27,
   "metadata": {},
   "outputs": [
    {
     "name": "stdout",
     "output_type": "stream",
     "text": [
      "Ultimo morto: Germano\n",
      "Lista de mortos:\n",
      " Germano -> \n"
     ]
    }
   ],
   "source": [
    "garibaldi.album_figurinhas()"
   ]
  },
  {
   "cell_type": "code",
   "execution_count": 28,
   "metadata": {},
   "outputs": [
    {
     "name": "stdout",
     "output_type": "stream",
     "text": [
      "Porque tradição sempre rima com chimarrão\n"
     ]
    }
   ],
   "source": [
    "garibaldi.mateando()"
   ]
  },
  {
   "cell_type": "code",
   "execution_count": 29,
   "metadata": {},
   "outputs": [
    {
     "name": "stdout",
     "output_type": "stream",
     "text": [
      "A defesa de Garibaldi é 0\n",
      "O ataque do inimigo Bento diminuiu, agora é 50\n",
      "A vida de Garibaldi é 21.0\n",
      "Essa pala te salvou vivente\n"
     ]
    }
   ],
   "source": [
    "garibaldi.pala(bento)"
   ]
  },
  {
   "cell_type": "code",
   "execution_count": 30,
   "metadata": {},
   "outputs": [
    {
     "name": "stdout",
     "output_type": "stream",
     "text": [
      "Seu ataque agora é 155.0!\n",
      "A vida de Bento é -95.0\n",
      "Esse inimigo não tem mais vida para lutar!\n"
     ]
    }
   ],
   "source": [
    "garibaldi.desenhar_a_desgraca(bento)"
   ]
  },
  {
   "cell_type": "code",
   "execution_count": 31,
   "metadata": {},
   "outputs": [
    {
     "name": "stdout",
     "output_type": "stream",
     "text": [
      "Chega de treta, vamos matear\n"
     ]
    }
   ],
   "source": [
    "garibaldi.tertulia()"
   ]
  },
  {
   "cell_type": "code",
   "execution_count": 32,
   "metadata": {},
   "outputs": [
    {
     "name": "stdout",
     "output_type": "stream",
     "text": [
      "Seu ataque agora é 4045.0!\n",
      "A vida de Giuseppe é -3985.0\n",
      "Giuseppe\n",
      "Esse inimigo não tem mais vida para lutar!\n"
     ]
    }
   ],
   "source": [
    "garibaldi.gritos_de_liberdade(giuseppe)"
   ]
  },
  {
   "cell_type": "code",
   "execution_count": 33,
   "metadata": {},
   "outputs": [
    {
     "name": "stdout",
     "output_type": "stream",
     "text": [
      "Giuseppe não tem VIDA o suficiente para executar esta ação!\n"
     ]
    }
   ],
   "source": [
    "garibaldi.gritos_de_liberdade(giuseppe)"
   ]
  },
  {
   "cell_type": "code",
   "execution_count": 34,
   "metadata": {},
   "outputs": [
    {
     "name": "stdout",
     "output_type": "stream",
     "text": [
      "Ultimo morto: Giuseppe\n",
      "Lista de mortos:\n",
      " Germano -> Bento -> Giuseppe -> \n"
     ]
    }
   ],
   "source": [
    "garibaldi.album_figurinhas()"
   ]
  },
  {
   "cell_type": "code",
   "execution_count": null,
   "metadata": {},
   "outputs": [],
   "source": []
  },
  {
   "cell_type": "code",
   "execution_count": null,
   "metadata": {},
   "outputs": [],
   "source": []
  }
 ],
 "metadata": {
  "kernelspec": {
   "display_name": "Python 3",
   "language": "python",
   "name": "python3"
  },
  "language_info": {
   "codemirror_mode": {
    "name": "ipython",
    "version": 3
   },
   "file_extension": ".py",
   "mimetype": "text/x-python",
   "name": "python",
   "nbconvert_exporter": "python",
   "pygments_lexer": "ipython3",
   "version": "3.7.6"
  }
 },
 "nbformat": 4,
 "nbformat_minor": 4
}
